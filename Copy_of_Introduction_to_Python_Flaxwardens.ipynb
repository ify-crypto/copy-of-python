{
  "nbformat": 4,
  "nbformat_minor": 0,
  "metadata": {
    "colab": {
      "provenance": [],
      "toc_visible": true,
      "authorship_tag": "ABX9TyN3QwKvqqM3nh3XCLKzTH8k",
      "include_colab_link": true
    },
    "kernelspec": {
      "name": "python3",
      "display_name": "Python 3"
    },
    "language_info": {
      "name": "python"
    }
  },
  "cells": [
    {
      "cell_type": "markdown",
      "metadata": {
        "id": "view-in-github",
        "colab_type": "text"
      },
      "source": [
        "<a href=\"https://colab.research.google.com/github/ify-crypto/copy-of-python/blob/main/Copy_of_Introduction_to_Python_Flaxwardens.ipynb\" target=\"_parent\"><img src=\"https://colab.research.google.com/assets/colab-badge.svg\" alt=\"Open In Colab\"/></a>"
      ]
    },
    {
      "cell_type": "code",
      "execution_count": null,
      "metadata": {
        "colab": {
          "base_uri": "https://localhost:8080/"
        },
        "id": "xIekm-w7nEeI",
        "outputId": "abdfe8dd-c8cd-40af-bbda-8b522a4f3bbf"
      },
      "outputs": [
        {
          "output_type": "stream",
          "name": "stdout",
          "text": [
            "my name is Ifeyinwa and i am a student of Data science\n"
          ]
        }
      ],
      "source": [
        "print('my name is Ifeyinwa and i am a student of Data science')"
      ]
    },
    {
      "cell_type": "markdown",
      "source": [
        "###THIS IS MY FIRST PYTHON CLASS"
      ],
      "metadata": {
        "id": "8MxGQHUSnegB"
      }
    },
    {
      "cell_type": "code",
      "source": [
        "name = 'Ifeyinwa'\n",
        "age = 40\n",
        "\n",
        "\n",
        "\n",
        "print(name)\n",
        "print(age)"
      ],
      "metadata": {
        "colab": {
          "base_uri": "https://localhost:8080/"
        },
        "id": "N6ziBJdPpWX8",
        "outputId": "bd355a7c-0297-45a1-eb8e-ef6fb672a8b5"
      },
      "execution_count": null,
      "outputs": [
        {
          "output_type": "stream",
          "name": "stdout",
          "text": [
            "Ifeyinwa\n",
            "40\n"
          ]
        }
      ]
    },
    {
      "cell_type": "markdown",
      "source": [],
      "metadata": {
        "id": "amxWnfiRrtfq"
      }
    },
    {
      "cell_type": "code",
      "source": [
        "name = 'Ifeyinwa'\n",
        "age = 40\n",
        "course = 'python'\n",
        "\n",
        "print(f'my name is{name} and i am {age}years old and i am studing {course}' )"
      ],
      "metadata": {
        "colab": {
          "base_uri": "https://localhost:8080/"
        },
        "id": "mfLSeqmMruCT",
        "outputId": "f707096c-f530-4c80-b6a9-d15fb77666a4"
      },
      "execution_count": null,
      "outputs": [
        {
          "output_type": "stream",
          "name": "stdout",
          "text": [
            "my name isIfeyinwa and i am 40years old and i am studing python\n"
          ]
        }
      ]
    },
    {
      "cell_type": "code",
      "source": [
        "name = input('please enter your name :')\n",
        "age = int(input('please enter your age :'))\n",
        "\n",
        "\n",
        "\n",
        "print(f'my name is{name} and i am {age}years old and i am studing {course}' )\n"
      ],
      "metadata": {
        "colab": {
          "base_uri": "https://localhost:8080/"
        },
        "id": "zF4VLAQOtH--",
        "outputId": "52eb6b1b-c384-4029-f7c1-954f8a7afc29"
      },
      "execution_count": null,
      "outputs": [
        {
          "output_type": "stream",
          "name": "stdout",
          "text": [
            "please enter your name :Ifeyinwa\n",
            "please enter your age :40\n",
            "my name isIfeyinwa and i am 40years old and i am studing python\n"
          ]
        }
      ]
    },
    {
      "cell_type": "code",
      "source": [
        "print('Welcome to my page.please fill out the necessary information')\n",
        "name = input('please enter your name :')\n",
        "course =input('please enter your course :')\n",
        "school = input('please enter your school:')\n",
        "school_fees =float(input('please  enter your school_fees :') )\n",
        "\n",
        "\n",
        "\n",
        "print(f'my name is{name} and i am {age}years old and i am in {school} and i am studing{course} and my school_fees is{school_fees}')"
      ],
      "metadata": {
        "colab": {
          "base_uri": "https://localhost:8080/"
        },
        "id": "r57LhouwvXH5",
        "outputId": "6f34297e-1f2f-4e4b-d368-f8a9cb43f398"
      },
      "execution_count": null,
      "outputs": [
        {
          "output_type": "stream",
          "name": "stdout",
          "text": [
            "Welcome to my page.please fill out the necessary information\n",
            "please enter your name :Ifeyinwa\n",
            "please enter your course :Statistics\n",
            "please enter your school:Nnamdi azikiwe University\n",
            "please  enter your school_fees :40000.896\n",
            "my name isIfeyinwa and i am 40years old and i am in Nnamdi azikiwe University and i am studingStatistics and my school_fees is40000.896\n"
          ]
        }
      ]
    },
    {
      "cell_type": "markdown",
      "source": [
        "####Arithmetic Operators\n",
        "\n",
        "\n",
        "\n",
        "\n",
        "*   Addition +\n",
        "*   Subtraction -\n",
        "*   Multiplication *\n",
        "*   Division /\n",
        "*   Modulus %\n",
        "*   exponentiation **\n",
        "*   Floor Division //\n",
        "\n",
        "\n"
      ],
      "metadata": {
        "id": "s7ZJjBQ502MB"
      }
    },
    {
      "cell_type": "code",
      "source": [
        "x = 5\n",
        "y = 3"
      ],
      "metadata": {
        "id": "4HIaZ27Q2Jkj"
      },
      "execution_count": null,
      "outputs": []
    },
    {
      "cell_type": "code",
      "source": [
        "#addition\n",
        "result = x + y\n",
        "print(result)"
      ],
      "metadata": {
        "colab": {
          "base_uri": "https://localhost:8080/"
        },
        "id": "TOuWsWEF3UKt",
        "outputId": "f6185f35-3903-46d2-c26b-4a42cf1943d8"
      },
      "execution_count": null,
      "outputs": [
        {
          "output_type": "stream",
          "name": "stdout",
          "text": [
            "8\n"
          ]
        }
      ]
    },
    {
      "cell_type": "markdown",
      "source": [],
      "metadata": {
        "id": "IWMFyuIO3qqR"
      }
    },
    {
      "cell_type": "code",
      "source": [
        "#subtraction\n",
        "result = x - y\n",
        "print(result)"
      ],
      "metadata": {
        "colab": {
          "base_uri": "https://localhost:8080/"
        },
        "id": "06WtT0c13rJk",
        "outputId": "a028511d-5a3a-4506-9aeb-3392a09defe1"
      },
      "execution_count": null,
      "outputs": [
        {
          "output_type": "stream",
          "name": "stdout",
          "text": [
            "2\n"
          ]
        }
      ]
    },
    {
      "cell_type": "code",
      "source": [],
      "metadata": {
        "id": "oP3DySCJ6P2R"
      },
      "execution_count": null,
      "outputs": []
    },
    {
      "cell_type": "code",
      "source": [],
      "metadata": {
        "id": "OyVg-eyk6B27"
      },
      "execution_count": null,
      "outputs": []
    },
    {
      "cell_type": "code",
      "source": [
        "#multiplication\n",
        "result = x * y\n",
        "print(result)"
      ],
      "metadata": {
        "colab": {
          "base_uri": "https://localhost:8080/"
        },
        "id": "MIHsizme35nI",
        "outputId": "eebfca8b-f499-46c6-9288-774159ddf4e4"
      },
      "execution_count": null,
      "outputs": [
        {
          "output_type": "stream",
          "name": "stdout",
          "text": [
            "15\n"
          ]
        }
      ]
    },
    {
      "cell_type": "code",
      "source": [
        "# exponentiation\n",
        "result = x ** y\n",
        "print(result)"
      ],
      "metadata": {
        "colab": {
          "base_uri": "https://localhost:8080/"
        },
        "id": "VtFd7TD04DWv",
        "outputId": "98671136-c137-458a-93f3-0fbb7edfd4e0"
      },
      "execution_count": null,
      "outputs": [
        {
          "output_type": "stream",
          "name": "stdout",
          "text": [
            "125\n"
          ]
        }
      ]
    },
    {
      "cell_type": "code",
      "source": [
        "age = int(input('enter your age:'))\n",
        "height = int(input('enter your height :'))\n",
        "\n",
        "result = age + height\n",
        "print(result)"
      ],
      "metadata": {
        "colab": {
          "base_uri": "https://localhost:8080/"
        },
        "id": "yf709k8K42IO",
        "outputId": "6cbff4d7-57bd-47e3-ce21-340b5ca2a5b5"
      },
      "execution_count": null,
      "outputs": [
        {
          "output_type": "stream",
          "name": "stdout",
          "text": [
            "enter your age:40\n",
            "enter your height :7\n",
            "47\n"
          ]
        }
      ]
    },
    {
      "cell_type": "code",
      "source": [
        "#subtraction\n",
        "result = age - height\n",
        "print(result)"
      ],
      "metadata": {
        "colab": {
          "base_uri": "https://localhost:8080/"
        },
        "id": "yFCF7iYI6SMU",
        "outputId": "47f192ff-3d33-478f-8d84-6dbbac1ba62e"
      },
      "execution_count": null,
      "outputs": [
        {
          "output_type": "stream",
          "name": "stdout",
          "text": [
            "33\n"
          ]
        }
      ]
    },
    {
      "cell_type": "code",
      "source": [
        "#multiplication\n",
        "result = age * height\n",
        "print(result)"
      ],
      "metadata": {
        "colab": {
          "base_uri": "https://localhost:8080/"
        },
        "id": "pqziKud26Z2_",
        "outputId": "05f60b99-ceb2-4bc0-feec-d3612fed9905"
      },
      "execution_count": null,
      "outputs": [
        {
          "output_type": "stream",
          "name": "stdout",
          "text": [
            "280\n"
          ]
        }
      ]
    },
    {
      "cell_type": "code",
      "source": [
        "#division\n",
        "result = age / height\n",
        "print(result)"
      ],
      "metadata": {
        "colab": {
          "base_uri": "https://localhost:8080/"
        },
        "id": "Phorx7sr6h6l",
        "outputId": "de06014e-4321-4698-c4d3-e8dc69e57c2f"
      },
      "execution_count": null,
      "outputs": [
        {
          "output_type": "stream",
          "name": "stdout",
          "text": [
            "5.714285714285714\n"
          ]
        }
      ]
    },
    {
      "cell_type": "code",
      "source": [
        "#modulus\n",
        "result = age % height\n",
        "print(result)"
      ],
      "metadata": {
        "colab": {
          "base_uri": "https://localhost:8080/"
        },
        "id": "uRrwTGON6rEm",
        "outputId": "4ddbcd45-869b-4ae0-d477-167b9fd8a941"
      },
      "execution_count": null,
      "outputs": [
        {
          "output_type": "stream",
          "name": "stdout",
          "text": [
            "5\n"
          ]
        }
      ]
    },
    {
      "cell_type": "code",
      "source": [
        "#exponentiation\n",
        "result = age ** height\n",
        "print(result)"
      ],
      "metadata": {
        "colab": {
          "base_uri": "https://localhost:8080/"
        },
        "id": "OLTFgCfp63S3",
        "outputId": "fb14f3f9-f469-4212-850a-ae430db53309"
      },
      "execution_count": null,
      "outputs": [
        {
          "output_type": "stream",
          "name": "stdout",
          "text": [
            "163840000000\n"
          ]
        }
      ]
    },
    {
      "cell_type": "code",
      "source": [
        "#Floor Division\n",
        "result = age // height\n",
        "print(result)"
      ],
      "metadata": {
        "colab": {
          "base_uri": "https://localhost:8080/"
        },
        "id": "iGrCnhnb7BnW",
        "outputId": "36642bdb-824c-42fc-b837-8e70c57c437f"
      },
      "execution_count": null,
      "outputs": [
        {
          "output_type": "stream",
          "name": "stdout",
          "text": [
            "5\n"
          ]
        }
      ]
    }
  ]
}